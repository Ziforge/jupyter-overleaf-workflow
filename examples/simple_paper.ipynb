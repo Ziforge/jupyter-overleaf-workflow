{
 "cells": [
  {
   "cell_type": "markdown",
   "metadata": {},
   "source": [
    "# Paper Title: A Simple Example Paper\n",
    "\n",
    "**Authors:** Student Name  \n",
    "**Institution:** Your University  \n",
    "**Contact:** student@university.edu  \n",
    "**Keywords:** example, jupyter, latex, academic writing  \n",
    "**Template:** twocolumn"
   ]
  },
  {
   "cell_type": "markdown",
   "metadata": {},
   "source": [
    "## Abstract\n",
    "\n",
    "This notebook demonstrates the Jupyter-to-Overleaf workflow for academic writing. We show how to combine code, equations, figures, and narrative text in a single document that can be automatically converted to a publication-ready LaTeX paper. The workflow streamlines the research process by maintaining reproducibility while producing professional academic output."
   ]
  },
  {
   "cell_type": "markdown",
   "metadata": {},
   "source": [
    "## Introduction\n",
    "\n",
    "Academic writing often requires integrating computational results with narrative explanations. Traditional workflows separate the analysis (in code) from the writing (in LaTeX), leading to synchronization issues and reduced reproducibility.\n",
    "\n",
    "This workflow solves these problems by enabling researchers to:\n",
    "1. Develop code and analyze data in Jupyter\n",
    "2. Document findings inline with the code\n",
    "3. Automatically convert to LaTeX format\n",
    "4. Sync to Overleaf for collaborative editing\n",
    "5. Archive final versions on GitHub"
   ]
  },
  {
   "cell_type": "markdown",
   "metadata": {},
   "source": [
    "## Methods\n",
    "\n",
    "### Mathematical Foundation\n",
    "\n",
    "Consider the standard equation for a sine wave:\n",
    "\n",
    "$$y(t) = A \\sin(2\\pi f t + \\phi)$$\n",
    "\n",
    "where:\n",
    "- $A$ is the amplitude\n",
    "- $f$ is the frequency (Hz)\n",
    "- $t$ is time (seconds)\n",
    "- $\\phi$ is the phase offset (radians)"
   ]
  },
  {
   "cell_type": "code",
   "execution_count": null,
   "metadata": {},
   "outputs": [],
   "source": [
    "import numpy as np\n",
    "import matplotlib.pyplot as plt\n",
    "\n",
    "# Set random seed for reproducibility\n",
    "np.random.seed(42)\n",
    "\n",
    "# Parameters\n",
    "fs = 1000  # Sampling rate (Hz)\n",
    "duration = 1.0  # Duration (seconds)\n",
    "f = 5  # Frequency (Hz)\n",
    "A = 1.0  # Amplitude\n",
    "phi = 0  # Phase (radians)\n",
    "\n",
    "# Generate time vector\n",
    "t = np.linspace(0, duration, int(fs * duration))\n",
    "\n",
    "# Generate sine wave\n",
    "y = A * np.sin(2 * np.pi * f * t + phi)"
   ]
  },
  {
   "cell_type": "markdown",
   "metadata": {},
   "source": [
    "### Data Visualization"
   ]
  },
  {
   "cell_type": "code",
   "execution_count": null,
   "metadata": {},
   "outputs": [],
   "source": [
    "plt.figure(figsize=(8, 4), dpi=150)\n",
    "plt.plot(t, y, 'b-', linewidth=1.5, label=f'f={f} Hz')\n",
    "plt.xlabel('Time (s)')\n",
    "plt.ylabel('Amplitude')\n",
    "plt.title('Sine Wave Example')\n",
    "plt.grid(True, alpha=0.3)\n",
    "plt.legend()\n",
    "plt.tight_layout()\n",
    "plt.savefig('sine_wave.pdf', bbox_inches='tight')\n",
    "plt.show()"
   ]
  },
  {
   "cell_type": "markdown",
   "metadata": {},
   "source": [
    "## Results\n",
    "\n",
    "Figure 1 shows the generated sine wave with the specified parameters. The waveform exhibits the expected periodic behavior with period $T = 1/f = 0.2$ seconds."
   ]
  },
  {
   "cell_type": "code",
   "execution_count": null,
   "metadata": {},
   "outputs": [],
   "source": [
    "# Calculate statistics\n",
    "mean_val = np.mean(y)\n",
    "std_val = np.std(y)\n",
    "max_val = np.max(y)\n",
    "min_val = np.min(y)\n",
    "\n",
    "print(f\"Signal Statistics:\")\n",
    "print(f\"  Mean: {mean_val:.4f}\")\n",
    "print(f\"  Std Dev: {std_val:.4f}\")\n",
    "print(f\"  Max: {max_val:.4f}\")\n",
    "print(f\"  Min: {min_val:.4f}\")"
   ]
  },
  {
   "cell_type": "markdown",
   "metadata": {},
   "source": [
    "The signal statistics confirm the expected properties of a sine wave:\n",
    "- Mean value near zero (due to symmetry)\n",
    "- Standard deviation of $A/\\sqrt{2} \\approx 0.707$\n",
    "- Maximum and minimum values of $\\pm A$"
   ]
  },
  {
   "cell_type": "markdown",
   "metadata": {},
   "source": [
    "## Discussion\n",
    "\n",
    "This example demonstrates the complete workflow from computational analysis to academic paper. The key advantages are:\n",
    "\n",
    "1. **Reproducibility**: All code and parameters are documented\n",
    "2. **Efficiency**: Single source for analysis and writing\n",
    "3. **Collaboration**: Easy sync to Overleaf for co-authors\n",
    "4. **Version Control**: Git integration for full history\n",
    "\n",
    "The workflow is particularly useful for computational fields where results depend critically on specific parameter values and algorithms."
   ]
  },
  {
   "cell_type": "markdown",
   "metadata": {},
   "source": [
    "## Conclusion\n",
    "\n",
    "We have presented a workflow that bridges the gap between computational research and academic writing. By maintaining a single source notebook that can be converted to LaTeX, synced to Overleaf, and archived on GitHub, researchers can ensure reproducibility while streamlining the publication process.\n",
    "\n",
    "Future work could extend this workflow to support additional output formats and improve automation for common academic writing tasks."
   ]
  },
  {
   "cell_type": "markdown",
   "metadata": {},
   "source": [
    "## Convert to LaTeX\n",
    "\n",
    "To convert this notebook to LaTeX:"
   ]
  },
  {
   "cell_type": "code",
   "execution_count": null,
   "metadata": {},
   "outputs": [],
   "source": [
    "from workflow import notebook_to_paper, sync_to_overleaf\n",
    "\n",
    "# Convert notebook to LaTeX\n",
    "result = notebook_to_paper(\n",
    "    notebook=\"simple_paper.ipynb\",\n",
    "    output_dir=\"../output/simple_paper\",\n",
    "    template=\"twocolumn\",\n",
    "    save_figures=True,\n",
    "    include_code=False  # Exclude code from paper\n",
    ")\n",
    "\n",
    "print(f\"Conversion complete!\")\n",
    "print(f\"Output directory: {result['output_dir']}\")\n",
    "print(f\"Main LaTeX file: {result['main_tex']}\")\n",
    "print(f\"Figures saved: {len(result['figures'])}\")"
   ]
  },
  {
   "cell_type": "markdown",
   "metadata": {},
   "source": [
    "## Sync to Overleaf\n",
    "\n",
    "To sync to Overleaf (requires configuration):"
   ]
  },
  {
   "cell_type": "code",
   "execution_count": null,
   "metadata": {},
   "outputs": [],
   "source": [
    "# Sync to Overleaf\n",
    "sync_result = sync_to_overleaf(\n",
    "    latex_dir=\"../output/simple_paper\",\n",
    "    project_name=\"default\",\n",
    "    commit_message=\"Update from Jupyter workflow\"\n",
    ")\n",
    "\n",
    "if sync_result['success']:\n",
    "    print(\"Ready to sync to Overleaf!\")\n",
    "    print(sync_result['instructions'])\n",
    "else:\n",
    "    print(f\"Sync preparation failed: {sync_result['error']}\")"
   ]
  }
 ],
 "metadata": {
  "kernelspec": {
   "display_name": "Python 3",
   "language": "python",
   "name": "python3"
  },
  "language_info": {
   "name": "python",
   "version": "3.10.0"
  }
 },
 "nbformat": 4,
 "nbformat_minor": 4
}
